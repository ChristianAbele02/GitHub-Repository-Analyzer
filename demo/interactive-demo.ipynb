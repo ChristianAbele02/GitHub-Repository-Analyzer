{
 "cells": [
  {
   "cell_type": "markdown",
   "metadata": {},
   "source": [
    "# GitHub Repository Analyzer - Interactive Demo\n",
    "\n",
    "This notebook demonstrates how to use the GitHub Repository Analyzer interactively in Jupyter.\n",
    "\n",
    "## Setup\n",
    "\n",
    "Before running this notebook:\n",
    "1. Install dependencies: `pip install -r requirements.txt`\n",
    "2. Set up your GitHub token in a `.env` file\n",
    "3. Install Jupyter: `pip install jupyter ipywidgets`"
   ]
  },
  {
   "cell_type": "code",
   "metadata": {
    "ExecuteTime": {
     "end_time": "2025-06-04T10:38:39.626906Z",
     "start_time": "2025-06-04T10:38:38.755472Z"
    }
   },
   "source": [
    "# Import required libraries\n",
    "import os\n",
    "import sys\n",
    "import pandas as pd\n",
    "import matplotlib.pyplot as plt\n",
    "import seaborn as sns\n",
    "from dotenv import load_dotenv\n",
    "\n",
    "# Add parent directory to the path\n",
    "sys.path.append('..')\n",
    "\n",
    "# Import the analyzer\n",
    "from github_repository_analyzer import (\n",
    "    GitHubRepositoryAnalyzer, analyze_github_trends, VisualizationEngine\n",
    ")\n",
    "# Set up plotting\n",
    "%matplotlib inline\n",
    "plt.style.use('seaborn-v0_8')\n",
    "sns.set_palette('viridis')"
   ],
   "outputs": [
    {
     "name": "stdout",
     "output_type": "stream",
     "text": [
      "Warning: Missing required packages: scikit-learn\n",
      "Install them with: pip install scikit-learn\n",
      "Warning: Missing required packages: scikit-learn\n",
      "Install them with: pip install scikit-learn\n"
     ]
    }
   ],
   "execution_count": 1
  },
  {
   "cell_type": "code",
   "metadata": {
    "ExecuteTime": {
     "end_time": "2025-06-04T10:38:41.536898Z",
     "start_time": "2025-06-04T10:38:41.526026Z"
    }
   },
   "source": [
    "# Load environment variables and initialize analyzer\n",
    "load_dotenv()\n",
    "github_token = os.getenv('GITHUB_TOKEN')\n",
    "\n",
    "if not github_token:\n",
    "    print(\"Please set your GITHUB_TOKEN in a .env file\")\n",
    "else:\n",
    "    print(\"GitHub token loaded successfully\")\n",
    "    analyzer = GitHubRepositoryAnalyzer(token=github_token)\n",
    "    print(\"Analyzer initialized\")"
   ],
   "outputs": [
    {
     "name": "stdout",
     "output_type": "stream",
     "text": [
      "GitHub token loaded successfully\n",
      "Analyzer initialized\n"
     ]
    }
   ],
   "execution_count": 2
  },
  {
   "cell_type": "markdown",
   "metadata": {},
   "source": [
    "## Example 1: Basic Repository Search and Analysis"
   ]
  },
  {
   "cell_type": "code",
   "metadata": {
    "ExecuteTime": {
     "end_time": "2025-06-04T10:44:31.099552Z",
     "start_time": "2025-06-04T10:44:26.207321Z"
    }
   },
   "source": [
    "import pandas as pd\n",
    "# Build query\n",
    "query = ['language:python']\n",
    "# Execute search\n",
    "print(\"Searching for Python ML repositories...\")\n",
    "repositories = analyzer.search_repositories(\n",
    "    query=query,\n",
    "    max_repos=150\n",
    ")\n",
    "# Process results\n",
    "print(f\"Found {len(repositories)} repositories\")\n",
    "if repositories:\n",
    "    top_repos = sorted(repositories,\n",
    "                      key=lambda x: x['stars'],\n",
    "                      reverse=True)[:10]\n",
    "\n",
    "    df_top = pd.DataFrame([{\n",
    "        'Repository': repo['full_name'],\n",
    "        'Stars': repo['stars'],\n",
    "        'Forks': repo['forks'],\n",
    "        'Language': repo.get('language', 'Unknown'),\n",
    "        'Last Updated': repo['updated_at']\n",
    "    } for repo in top_repos])\n",
    "\n",
    "    print(\"\\nTop 10 Repositories:\")\n",
    "    display(df_top)\n"
   ],
   "outputs": [
    {
     "name": "stdout",
     "output_type": "stream",
     "text": [
      "Searching for Python ML repositories...\n",
      "Searching for repositories with query: ['language:python']\n",
      "Total repositories collected: 450\n",
      "Found 150 repositories\n",
      "\n",
      "Top 10 Repositories:\n"
     ]
    },
    {
     "data": {
      "text/plain": [
       "                               Repository   Stars  Forks Language  \\\n",
       "0  EbookFoundation/free-programming-books  358732  63489   Python   \n",
       "1                 public-apis/public-apis  348964  36688   Python   \n",
       "2        donnemartin/system-design-primer  303795  50274   Python   \n",
       "3                    vinta/awesome-python  245422  25748   Python   \n",
       "4                    TheAlgorithms/Python  201064  46836   Python   \n",
       "5            Significant-Gravitas/AutoGPT  175858  45759   Python   \n",
       "6    AUTOMATIC1111/stable-diffusion-webui  153157  28503   Python   \n",
       "7                huggingface/transformers  145162  29214   Python   \n",
       "8                     ytdl-org/youtube-dl  135944  10354   Python   \n",
       "9                521xueweihan/HelloGitHub  115637  10322   Python   \n",
       "\n",
       "           Last Updated  \n",
       "0  2025-06-04T10:25:03Z  \n",
       "1  2025-06-04T10:43:16Z  \n",
       "2  2025-06-04T10:40:47Z  \n",
       "3  2025-06-04T10:12:54Z  \n",
       "4  2025-06-04T10:06:21Z  \n",
       "5  2025-06-04T10:32:40Z  \n",
       "6  2025-06-04T10:39:23Z  \n",
       "7  2025-06-04T10:25:15Z  \n",
       "8  2025-06-04T09:21:17Z  \n",
       "9  2025-06-04T10:25:57Z  "
      ],
      "text/html": [
       "<div>\n",
       "<style scoped>\n",
       "    .dataframe tbody tr th:only-of-type {\n",
       "        vertical-align: middle;\n",
       "    }\n",
       "\n",
       "    .dataframe tbody tr th {\n",
       "        vertical-align: top;\n",
       "    }\n",
       "\n",
       "    .dataframe thead th {\n",
       "        text-align: right;\n",
       "    }\n",
       "</style>\n",
       "<table border=\"1\" class=\"dataframe\">\n",
       "  <thead>\n",
       "    <tr style=\"text-align: right;\">\n",
       "      <th></th>\n",
       "      <th>Repository</th>\n",
       "      <th>Stars</th>\n",
       "      <th>Forks</th>\n",
       "      <th>Language</th>\n",
       "      <th>Last Updated</th>\n",
       "    </tr>\n",
       "  </thead>\n",
       "  <tbody>\n",
       "    <tr>\n",
       "      <th>0</th>\n",
       "      <td>EbookFoundation/free-programming-books</td>\n",
       "      <td>358732</td>\n",
       "      <td>63489</td>\n",
       "      <td>Python</td>\n",
       "      <td>2025-06-04T10:25:03Z</td>\n",
       "    </tr>\n",
       "    <tr>\n",
       "      <th>1</th>\n",
       "      <td>public-apis/public-apis</td>\n",
       "      <td>348964</td>\n",
       "      <td>36688</td>\n",
       "      <td>Python</td>\n",
       "      <td>2025-06-04T10:43:16Z</td>\n",
       "    </tr>\n",
       "    <tr>\n",
       "      <th>2</th>\n",
       "      <td>donnemartin/system-design-primer</td>\n",
       "      <td>303795</td>\n",
       "      <td>50274</td>\n",
       "      <td>Python</td>\n",
       "      <td>2025-06-04T10:40:47Z</td>\n",
       "    </tr>\n",
       "    <tr>\n",
       "      <th>3</th>\n",
       "      <td>vinta/awesome-python</td>\n",
       "      <td>245422</td>\n",
       "      <td>25748</td>\n",
       "      <td>Python</td>\n",
       "      <td>2025-06-04T10:12:54Z</td>\n",
       "    </tr>\n",
       "    <tr>\n",
       "      <th>4</th>\n",
       "      <td>TheAlgorithms/Python</td>\n",
       "      <td>201064</td>\n",
       "      <td>46836</td>\n",
       "      <td>Python</td>\n",
       "      <td>2025-06-04T10:06:21Z</td>\n",
       "    </tr>\n",
       "    <tr>\n",
       "      <th>5</th>\n",
       "      <td>Significant-Gravitas/AutoGPT</td>\n",
       "      <td>175858</td>\n",
       "      <td>45759</td>\n",
       "      <td>Python</td>\n",
       "      <td>2025-06-04T10:32:40Z</td>\n",
       "    </tr>\n",
       "    <tr>\n",
       "      <th>6</th>\n",
       "      <td>AUTOMATIC1111/stable-diffusion-webui</td>\n",
       "      <td>153157</td>\n",
       "      <td>28503</td>\n",
       "      <td>Python</td>\n",
       "      <td>2025-06-04T10:39:23Z</td>\n",
       "    </tr>\n",
       "    <tr>\n",
       "      <th>7</th>\n",
       "      <td>huggingface/transformers</td>\n",
       "      <td>145162</td>\n",
       "      <td>29214</td>\n",
       "      <td>Python</td>\n",
       "      <td>2025-06-04T10:25:15Z</td>\n",
       "    </tr>\n",
       "    <tr>\n",
       "      <th>8</th>\n",
       "      <td>ytdl-org/youtube-dl</td>\n",
       "      <td>135944</td>\n",
       "      <td>10354</td>\n",
       "      <td>Python</td>\n",
       "      <td>2025-06-04T09:21:17Z</td>\n",
       "    </tr>\n",
       "    <tr>\n",
       "      <th>9</th>\n",
       "      <td>521xueweihan/HelloGitHub</td>\n",
       "      <td>115637</td>\n",
       "      <td>10322</td>\n",
       "      <td>Python</td>\n",
       "      <td>2025-06-04T10:25:57Z</td>\n",
       "    </tr>\n",
       "  </tbody>\n",
       "</table>\n",
       "</div>"
      ]
     },
     "metadata": {},
     "output_type": "display_data"
    }
   ],
   "execution_count": 9
  },
  {
   "cell_type": "code",
   "metadata": {
    "ExecuteTime": {
     "end_time": "2025-06-04T10:43:49.784150Z",
     "start_time": "2025-06-04T10:43:49.451065Z"
    }
   },
   "source": [
    "# Perform comprehensive analysis\n",
    "print(\"Performing analysis...\")\n",
    "\n",
    "analysis_results = analyzer.analyze_all(\n",
    "    perform_clustering=True,\n",
    "    predict_trends=True\n",
    ")\n",
    "\n",
    "print(\"Analysis completed!\")\n",
    "\n",
    "# Display summary statistics\n",
    "summary = analysis_results.get('summary', {})\n",
    "print(f\"\\nSummary Statistics:\")\n",
    "for key, value in summary.items():\n",
    "    print(f\"  • {key.replace('_', ' ').title()}: {value:,}\" if isinstance(value, (int, float)) else f\"  • {key.replace('_', ' ').title()}: {value}\")"
   ],
   "outputs": [
    {
     "name": "stdout",
     "output_type": "stream",
     "text": [
      "Performing analysis...\n",
      "Starting comprehensive analysis...\n",
      "Analyzing programming languages...\n",
      "Analyzing repository topics...\n",
      "Performing topic clustering...\n",
      "Generating trend predictions...\n",
      "Analysis complete!\n",
      "Analysis completed!\n",
      "\n",
      "Summary Statistics:\n",
      "  • Total Repositories: 300\n",
      "  • Total Stars: 18,958,476\n",
      "  • Total Forks: 3,204,314\n",
      "  • Total Watchers: 18,958,476\n",
      "  • Avg Stars Per Repo: 63,194.9\n",
      "  • Avg Forks Per Repo: 10,681.0\n",
      "  • Unique Languages: 1\n",
      "  • Unique Topics: 573\n",
      "  • Oldest Repository: 2010-02-16\n",
      "  • Newest Repository: 2025-03-06\n",
      "  • Language Diversity Ratio: 0.003\n"
     ]
    }
   ],
   "execution_count": 7
  },
  {
   "metadata": {
    "ExecuteTime": {
     "end_time": "2025-06-04T10:50:20.556773Z",
     "start_time": "2025-06-04T10:50:20.038646Z"
    }
   },
   "cell_type": "code",
   "source": [
    "print(f\"Repositories collected: {len(analyzer.repositories_data)}\")\n",
    "analyzer = analyze_github_trends(\n",
    "    queries=query,\n",
    "    token=github_token,\n",
    "    time_window='last 6 months',\n",
    "    max_repos_per_query=150,\n",
    ")\n"
   ],
   "outputs": [
    {
     "name": "stdout",
     "output_type": "stream",
     "text": [
      "Repositories collected: 450\n",
      "\n",
      "Processing query: language:python\n",
      "Searching for repositories with query: language:python\n",
      "Time window: last 6 months\n",
      "Total repositories collected: 0\n"
     ]
    },
    {
     "ename": "ValueError",
     "evalue": "No repository data available. Run search_repositories() first.",
     "output_type": "error",
     "traceback": [
      "\u001B[31m---------------------------------------------------------------------------\u001B[39m",
      "\u001B[31mValueError\u001B[39m                                Traceback (most recent call last)",
      "\u001B[36mCell\u001B[39m\u001B[36m \u001B[39m\u001B[32mIn[15]\u001B[39m\u001B[32m, line 2\u001B[39m\n\u001B[32m      1\u001B[39m \u001B[38;5;28mprint\u001B[39m(\u001B[33mf\u001B[39m\u001B[33m\"\u001B[39m\u001B[33mRepositories collected: \u001B[39m\u001B[38;5;132;01m{\u001B[39;00m\u001B[38;5;28mlen\u001B[39m(analyzer.repositories_data)\u001B[38;5;132;01m}\u001B[39;00m\u001B[33m\"\u001B[39m)\n\u001B[32m----> \u001B[39m\u001B[32m2\u001B[39m analyzer = \u001B[43manalyze_github_trends\u001B[49m\u001B[43m(\u001B[49m\n\u001B[32m      3\u001B[39m \u001B[43m    \u001B[49m\u001B[43mqueries\u001B[49m\u001B[43m=\u001B[49m\u001B[43mquery\u001B[49m\u001B[43m,\u001B[49m\n\u001B[32m      4\u001B[39m \u001B[43m    \u001B[49m\u001B[43mtoken\u001B[49m\u001B[43m=\u001B[49m\u001B[43mgithub_token\u001B[49m\u001B[43m,\u001B[49m\n\u001B[32m      5\u001B[39m \u001B[43m    \u001B[49m\u001B[43mtime_window\u001B[49m\u001B[43m=\u001B[49m\u001B[33;43m'\u001B[39;49m\u001B[33;43mlast 6 months\u001B[39;49m\u001B[33;43m'\u001B[39;49m\u001B[43m,\u001B[49m\n\u001B[32m      6\u001B[39m \u001B[43m    \u001B[49m\u001B[43mmax_repos_per_query\u001B[49m\u001B[43m=\u001B[49m\u001B[32;43m150\u001B[39;49m\u001B[43m,\u001B[49m\n\u001B[32m      7\u001B[39m \u001B[43m)\u001B[49m\n\u001B[32m      9\u001B[39m \u001B[38;5;28;01mif\u001B[39;00m analyzer.repositories_data:\n\u001B[32m     10\u001B[39m     analyzer.analyze_all()\n",
      "\u001B[36mFile \u001B[39m\u001B[32m~\\Python_Scripts\\GitHub Repository Analyzer\\github_repository_analyzer\\main.py:434\u001B[39m, in \u001B[36manalyze_github_trends\u001B[39m\u001B[34m(queries, token, time_window, max_repos_per_query, fast_mode)\u001B[39m\n\u001B[32m    427\u001B[39m     analyzer.search_repositories(\n\u001B[32m    428\u001B[39m         query=query,\n\u001B[32m    429\u001B[39m         max_repos=max_repos_per_query,\n\u001B[32m    430\u001B[39m         time_window=time_window\n\u001B[32m    431\u001B[39m     )\n\u001B[32m    433\u001B[39m \u001B[38;5;66;03m# Perform complete analysis\u001B[39;00m\n\u001B[32m--> \u001B[39m\u001B[32m434\u001B[39m \u001B[43manalyzer\u001B[49m\u001B[43m.\u001B[49m\u001B[43manalyze_all\u001B[49m\u001B[43m(\u001B[49m\u001B[43m)\u001B[49m\n\u001B[32m    435\u001B[39m analyzer.create_visualizations()\n\u001B[32m    437\u001B[39m \u001B[38;5;66;03m# Print summary\u001B[39;00m\n",
      "\u001B[36mFile \u001B[39m\u001B[32m~\\Python_Scripts\\GitHub Repository Analyzer\\github_repository_analyzer\\main.py:89\u001B[39m, in \u001B[36mGitHubRepositoryAnalyzer.analyze_all\u001B[39m\u001B[34m(self, perform_clustering, predict_trends)\u001B[39m\n\u001B[32m     78\u001B[39m \u001B[38;5;250m\u001B[39m\u001B[33;03m\"\"\"\u001B[39;00m\n\u001B[32m     79\u001B[39m \u001B[33;03mPerform comprehensive analysis on collected repository data\u001B[39;00m\n\u001B[32m     80\u001B[39m \u001B[33;03m\u001B[39;00m\n\u001B[32m   (...)\u001B[39m\u001B[32m     86\u001B[39m \u001B[33;03m    Dictionary with all analysis results\u001B[39;00m\n\u001B[32m     87\u001B[39m \u001B[33;03m\"\"\"\u001B[39;00m\n\u001B[32m     88\u001B[39m \u001B[38;5;28;01mif\u001B[39;00m \u001B[38;5;129;01mnot\u001B[39;00m \u001B[38;5;28mself\u001B[39m.repositories_data:\n\u001B[32m---> \u001B[39m\u001B[32m89\u001B[39m     \u001B[38;5;28;01mraise\u001B[39;00m \u001B[38;5;167;01mValueError\u001B[39;00m(\u001B[33m\"\u001B[39m\u001B[33mNo repository data available. Run search_repositories() first.\u001B[39m\u001B[33m\"\u001B[39m)\n\u001B[32m     91\u001B[39m \u001B[38;5;28mprint\u001B[39m(\u001B[33m\"\u001B[39m\u001B[33mStarting comprehensive analysis...\u001B[39m\u001B[33m\"\u001B[39m)\n\u001B[32m     93\u001B[39m \u001B[38;5;66;03m# Initialize analysis engine\u001B[39;00m\n",
      "\u001B[31mValueError\u001B[39m: No repository data available. Run search_repositories() first."
     ]
    }
   ],
   "execution_count": 15
  },
  {
   "cell_type": "markdown",
   "metadata": {},
   "source": [
    "## Example 2: Language Analysis and Visualization"
   ]
  },
  {
   "cell_type": "code",
   "metadata": {
    "ExecuteTime": {
     "end_time": "2025-06-04T10:48:51.925541Z",
     "start_time": "2025-06-04T10:48:50.540112Z"
    }
   },
   "source": [
    "# Remove rows with missing or invalid language values\n",
    "languages = analysis_results.get('languages', [])\n",
    "df_languages = pd.DataFrame(languages)\n",
    "\n",
    "# Display top languages\n",
    "print(\"Programming Languages Analysis:\")\n",
    "display(df_languages.head(10)[['language', 'count_stars', 'sum_stars', 'mean_stars', 'popularity_score']])\n",
    "\n",
    "# Use the visualizer's function for plotting\n",
    "from github_repository_analyzer.visualizer import VisualizationEngine\n",
    "\n",
    "visualizer = VisualizationEngine(repositories_data=analyzer.repositories_data)\n",
    "fig = visualizer.create_language_popularity_chart(df_languages, top_n=10)\n",
    "fig.show()"
   ],
   "outputs": [
    {
     "name": "stdout",
     "output_type": "stream",
     "text": [
      "Programming Languages Analysis:\n"
     ]
    },
    {
     "data": {
      "text/plain": [
       "  language  count_stars  sum_stars  mean_stars  popularity_score\n",
       "0      NaT          300   18958476    63194.92             100.0"
      ],
      "text/html": [
       "<div>\n",
       "<style scoped>\n",
       "    .dataframe tbody tr th:only-of-type {\n",
       "        vertical-align: middle;\n",
       "    }\n",
       "\n",
       "    .dataframe tbody tr th {\n",
       "        vertical-align: top;\n",
       "    }\n",
       "\n",
       "    .dataframe thead th {\n",
       "        text-align: right;\n",
       "    }\n",
       "</style>\n",
       "<table border=\"1\" class=\"dataframe\">\n",
       "  <thead>\n",
       "    <tr style=\"text-align: right;\">\n",
       "      <th></th>\n",
       "      <th>language</th>\n",
       "      <th>count_stars</th>\n",
       "      <th>sum_stars</th>\n",
       "      <th>mean_stars</th>\n",
       "      <th>popularity_score</th>\n",
       "    </tr>\n",
       "  </thead>\n",
       "  <tbody>\n",
       "    <tr>\n",
       "      <th>0</th>\n",
       "      <td>NaT</td>\n",
       "      <td>300</td>\n",
       "      <td>18958476</td>\n",
       "      <td>63194.92</td>\n",
       "      <td>100.0</td>\n",
       "    </tr>\n",
       "  </tbody>\n",
       "</table>\n",
       "</div>"
      ]
     },
     "metadata": {},
     "output_type": "display_data"
    },
    {
     "data": {
      "application/vnd.plotly.v1+json": {
       "data": [
        {
         "hovertemplate": "Popularity Score=%{x}<br>Programming Language=%{y}<br>Repo Count=%{text}<br>Avg. Stars=%{marker.color}<extra></extra>",
         "legendgroup": "",
         "marker": {
          "color": {
           "dtype": "f8",
           "bdata": "CtejcF3b7kA="
          },
          "coloraxis": "coloraxis",
          "pattern": {
           "shape": ""
          }
         },
         "name": "",
         "orientation": "h",
         "showlegend": false,
         "text": {
          "dtype": "f8",
          "bdata": "AAAAAADAckA="
         },
         "textposition": "outside",
         "x": {
          "dtype": "f8",
          "bdata": "AAAAAAAAWUA="
         },
         "xaxis": "x",
         "y": [
          "NaT"
         ],
         "yaxis": "y",
         "type": "bar"
        }
       ],
       "layout": {
        "template": {
         "data": {
          "histogram2dcontour": [
           {
            "type": "histogram2dcontour",
            "colorbar": {
             "outlinewidth": 0,
             "ticks": ""
            },
            "colorscale": [
             [
              0.0,
              "#0d0887"
             ],
             [
              0.1111111111111111,
              "#46039f"
             ],
             [
              0.2222222222222222,
              "#7201a8"
             ],
             [
              0.3333333333333333,
              "#9c179e"
             ],
             [
              0.4444444444444444,
              "#bd3786"
             ],
             [
              0.5555555555555556,
              "#d8576b"
             ],
             [
              0.6666666666666666,
              "#ed7953"
             ],
             [
              0.7777777777777778,
              "#fb9f3a"
             ],
             [
              0.8888888888888888,
              "#fdca26"
             ],
             [
              1.0,
              "#f0f921"
             ]
            ]
           }
          ],
          "choropleth": [
           {
            "type": "choropleth",
            "colorbar": {
             "outlinewidth": 0,
             "ticks": ""
            }
           }
          ],
          "histogram2d": [
           {
            "type": "histogram2d",
            "colorbar": {
             "outlinewidth": 0,
             "ticks": ""
            },
            "colorscale": [
             [
              0.0,
              "#0d0887"
             ],
             [
              0.1111111111111111,
              "#46039f"
             ],
             [
              0.2222222222222222,
              "#7201a8"
             ],
             [
              0.3333333333333333,
              "#9c179e"
             ],
             [
              0.4444444444444444,
              "#bd3786"
             ],
             [
              0.5555555555555556,
              "#d8576b"
             ],
             [
              0.6666666666666666,
              "#ed7953"
             ],
             [
              0.7777777777777778,
              "#fb9f3a"
             ],
             [
              0.8888888888888888,
              "#fdca26"
             ],
             [
              1.0,
              "#f0f921"
             ]
            ]
           }
          ],
          "heatmap": [
           {
            "type": "heatmap",
            "colorbar": {
             "outlinewidth": 0,
             "ticks": ""
            },
            "colorscale": [
             [
              0.0,
              "#0d0887"
             ],
             [
              0.1111111111111111,
              "#46039f"
             ],
             [
              0.2222222222222222,
              "#7201a8"
             ],
             [
              0.3333333333333333,
              "#9c179e"
             ],
             [
              0.4444444444444444,
              "#bd3786"
             ],
             [
              0.5555555555555556,
              "#d8576b"
             ],
             [
              0.6666666666666666,
              "#ed7953"
             ],
             [
              0.7777777777777778,
              "#fb9f3a"
             ],
             [
              0.8888888888888888,
              "#fdca26"
             ],
             [
              1.0,
              "#f0f921"
             ]
            ]
           }
          ],
          "contourcarpet": [
           {
            "type": "contourcarpet",
            "colorbar": {
             "outlinewidth": 0,
             "ticks": ""
            }
           }
          ],
          "contour": [
           {
            "type": "contour",
            "colorbar": {
             "outlinewidth": 0,
             "ticks": ""
            },
            "colorscale": [
             [
              0.0,
              "#0d0887"
             ],
             [
              0.1111111111111111,
              "#46039f"
             ],
             [
              0.2222222222222222,
              "#7201a8"
             ],
             [
              0.3333333333333333,
              "#9c179e"
             ],
             [
              0.4444444444444444,
              "#bd3786"
             ],
             [
              0.5555555555555556,
              "#d8576b"
             ],
             [
              0.6666666666666666,
              "#ed7953"
             ],
             [
              0.7777777777777778,
              "#fb9f3a"
             ],
             [
              0.8888888888888888,
              "#fdca26"
             ],
             [
              1.0,
              "#f0f921"
             ]
            ]
           }
          ],
          "surface": [
           {
            "type": "surface",
            "colorbar": {
             "outlinewidth": 0,
             "ticks": ""
            },
            "colorscale": [
             [
              0.0,
              "#0d0887"
             ],
             [
              0.1111111111111111,
              "#46039f"
             ],
             [
              0.2222222222222222,
              "#7201a8"
             ],
             [
              0.3333333333333333,
              "#9c179e"
             ],
             [
              0.4444444444444444,
              "#bd3786"
             ],
             [
              0.5555555555555556,
              "#d8576b"
             ],
             [
              0.6666666666666666,
              "#ed7953"
             ],
             [
              0.7777777777777778,
              "#fb9f3a"
             ],
             [
              0.8888888888888888,
              "#fdca26"
             ],
             [
              1.0,
              "#f0f921"
             ]
            ]
           }
          ],
          "mesh3d": [
           {
            "type": "mesh3d",
            "colorbar": {
             "outlinewidth": 0,
             "ticks": ""
            }
           }
          ],
          "scatter": [
           {
            "fillpattern": {
             "fillmode": "overlay",
             "size": 10,
             "solidity": 0.2
            },
            "type": "scatter"
           }
          ],
          "parcoords": [
           {
            "type": "parcoords",
            "line": {
             "colorbar": {
              "outlinewidth": 0,
              "ticks": ""
             }
            }
           }
          ],
          "scatterpolargl": [
           {
            "type": "scatterpolargl",
            "marker": {
             "colorbar": {
              "outlinewidth": 0,
              "ticks": ""
             }
            }
           }
          ],
          "bar": [
           {
            "error_x": {
             "color": "#2a3f5f"
            },
            "error_y": {
             "color": "#2a3f5f"
            },
            "marker": {
             "line": {
              "color": "#E5ECF6",
              "width": 0.5
             },
             "pattern": {
              "fillmode": "overlay",
              "size": 10,
              "solidity": 0.2
             }
            },
            "type": "bar"
           }
          ],
          "scattergeo": [
           {
            "type": "scattergeo",
            "marker": {
             "colorbar": {
              "outlinewidth": 0,
              "ticks": ""
             }
            }
           }
          ],
          "scatterpolar": [
           {
            "type": "scatterpolar",
            "marker": {
             "colorbar": {
              "outlinewidth": 0,
              "ticks": ""
             }
            }
           }
          ],
          "histogram": [
           {
            "marker": {
             "pattern": {
              "fillmode": "overlay",
              "size": 10,
              "solidity": 0.2
             }
            },
            "type": "histogram"
           }
          ],
          "scattergl": [
           {
            "type": "scattergl",
            "marker": {
             "colorbar": {
              "outlinewidth": 0,
              "ticks": ""
             }
            }
           }
          ],
          "scatter3d": [
           {
            "type": "scatter3d",
            "line": {
             "colorbar": {
              "outlinewidth": 0,
              "ticks": ""
             }
            },
            "marker": {
             "colorbar": {
              "outlinewidth": 0,
              "ticks": ""
             }
            }
           }
          ],
          "scattermap": [
           {
            "type": "scattermap",
            "marker": {
             "colorbar": {
              "outlinewidth": 0,
              "ticks": ""
             }
            }
           }
          ],
          "scattermapbox": [
           {
            "type": "scattermapbox",
            "marker": {
             "colorbar": {
              "outlinewidth": 0,
              "ticks": ""
             }
            }
           }
          ],
          "scatterternary": [
           {
            "type": "scatterternary",
            "marker": {
             "colorbar": {
              "outlinewidth": 0,
              "ticks": ""
             }
            }
           }
          ],
          "scattercarpet": [
           {
            "type": "scattercarpet",
            "marker": {
             "colorbar": {
              "outlinewidth": 0,
              "ticks": ""
             }
            }
           }
          ],
          "carpet": [
           {
            "aaxis": {
             "endlinecolor": "#2a3f5f",
             "gridcolor": "white",
             "linecolor": "white",
             "minorgridcolor": "white",
             "startlinecolor": "#2a3f5f"
            },
            "baxis": {
             "endlinecolor": "#2a3f5f",
             "gridcolor": "white",
             "linecolor": "white",
             "minorgridcolor": "white",
             "startlinecolor": "#2a3f5f"
            },
            "type": "carpet"
           }
          ],
          "table": [
           {
            "cells": {
             "fill": {
              "color": "#EBF0F8"
             },
             "line": {
              "color": "white"
             }
            },
            "header": {
             "fill": {
              "color": "#C8D4E3"
             },
             "line": {
              "color": "white"
             }
            },
            "type": "table"
           }
          ],
          "barpolar": [
           {
            "marker": {
             "line": {
              "color": "#E5ECF6",
              "width": 0.5
             },
             "pattern": {
              "fillmode": "overlay",
              "size": 10,
              "solidity": 0.2
             }
            },
            "type": "barpolar"
           }
          ],
          "pie": [
           {
            "automargin": true,
            "type": "pie"
           }
          ]
         },
         "layout": {
          "autotypenumbers": "strict",
          "colorway": [
           "#636efa",
           "#EF553B",
           "#00cc96",
           "#ab63fa",
           "#FFA15A",
           "#19d3f3",
           "#FF6692",
           "#B6E880",
           "#FF97FF",
           "#FECB52"
          ],
          "font": {
           "color": "#2a3f5f"
          },
          "hovermode": "closest",
          "hoverlabel": {
           "align": "left"
          },
          "paper_bgcolor": "white",
          "plot_bgcolor": "#E5ECF6",
          "polar": {
           "bgcolor": "#E5ECF6",
           "angularaxis": {
            "gridcolor": "white",
            "linecolor": "white",
            "ticks": ""
           },
           "radialaxis": {
            "gridcolor": "white",
            "linecolor": "white",
            "ticks": ""
           }
          },
          "ternary": {
           "bgcolor": "#E5ECF6",
           "aaxis": {
            "gridcolor": "white",
            "linecolor": "white",
            "ticks": ""
           },
           "baxis": {
            "gridcolor": "white",
            "linecolor": "white",
            "ticks": ""
           },
           "caxis": {
            "gridcolor": "white",
            "linecolor": "white",
            "ticks": ""
           }
          },
          "coloraxis": {
           "colorbar": {
            "outlinewidth": 0,
            "ticks": ""
           }
          },
          "colorscale": {
           "sequential": [
            [
             0.0,
             "#0d0887"
            ],
            [
             0.1111111111111111,
             "#46039f"
            ],
            [
             0.2222222222222222,
             "#7201a8"
            ],
            [
             0.3333333333333333,
             "#9c179e"
            ],
            [
             0.4444444444444444,
             "#bd3786"
            ],
            [
             0.5555555555555556,
             "#d8576b"
            ],
            [
             0.6666666666666666,
             "#ed7953"
            ],
            [
             0.7777777777777778,
             "#fb9f3a"
            ],
            [
             0.8888888888888888,
             "#fdca26"
            ],
            [
             1.0,
             "#f0f921"
            ]
           ],
           "sequentialminus": [
            [
             0.0,
             "#0d0887"
            ],
            [
             0.1111111111111111,
             "#46039f"
            ],
            [
             0.2222222222222222,
             "#7201a8"
            ],
            [
             0.3333333333333333,
             "#9c179e"
            ],
            [
             0.4444444444444444,
             "#bd3786"
            ],
            [
             0.5555555555555556,
             "#d8576b"
            ],
            [
             0.6666666666666666,
             "#ed7953"
            ],
            [
             0.7777777777777778,
             "#fb9f3a"
            ],
            [
             0.8888888888888888,
             "#fdca26"
            ],
            [
             1.0,
             "#f0f921"
            ]
           ],
           "diverging": [
            [
             0,
             "#8e0152"
            ],
            [
             0.1,
             "#c51b7d"
            ],
            [
             0.2,
             "#de77ae"
            ],
            [
             0.3,
             "#f1b6da"
            ],
            [
             0.4,
             "#fde0ef"
            ],
            [
             0.5,
             "#f7f7f7"
            ],
            [
             0.6,
             "#e6f5d0"
            ],
            [
             0.7,
             "#b8e186"
            ],
            [
             0.8,
             "#7fbc41"
            ],
            [
             0.9,
             "#4d9221"
            ],
            [
             1,
             "#276419"
            ]
           ]
          },
          "xaxis": {
           "gridcolor": "white",
           "linecolor": "white",
           "ticks": "",
           "title": {
            "standoff": 15
           },
           "zerolinecolor": "white",
           "automargin": true,
           "zerolinewidth": 2
          },
          "yaxis": {
           "gridcolor": "white",
           "linecolor": "white",
           "ticks": "",
           "title": {
            "standoff": 15
           },
           "zerolinecolor": "white",
           "automargin": true,
           "zerolinewidth": 2
          },
          "scene": {
           "xaxis": {
            "backgroundcolor": "#E5ECF6",
            "gridcolor": "white",
            "linecolor": "white",
            "showbackground": true,
            "ticks": "",
            "zerolinecolor": "white",
            "gridwidth": 2
           },
           "yaxis": {
            "backgroundcolor": "#E5ECF6",
            "gridcolor": "white",
            "linecolor": "white",
            "showbackground": true,
            "ticks": "",
            "zerolinecolor": "white",
            "gridwidth": 2
           },
           "zaxis": {
            "backgroundcolor": "#E5ECF6",
            "gridcolor": "white",
            "linecolor": "white",
            "showbackground": true,
            "ticks": "",
            "zerolinecolor": "white",
            "gridwidth": 2
           }
          },
          "shapedefaults": {
           "line": {
            "color": "#2a3f5f"
           }
          },
          "annotationdefaults": {
           "arrowcolor": "#2a3f5f",
           "arrowhead": 0,
           "arrowwidth": 1
          },
          "geo": {
           "bgcolor": "white",
           "landcolor": "#E5ECF6",
           "subunitcolor": "white",
           "showland": true,
           "showlakes": true,
           "lakecolor": "white"
          },
          "title": {
           "x": 0.05
          },
          "mapbox": {
           "style": "light"
          }
         }
        },
        "xaxis": {
         "anchor": "y",
         "domain": [
          0.0,
          1.0
         ],
         "title": {
          "text": "Popularity Score"
         },
         "showgrid": true,
         "gridcolor": "lightgrey"
        },
        "yaxis": {
         "anchor": "x",
         "domain": [
          0.0,
          1.0
         ],
         "title": {
          "text": "Programming Language"
         },
         "categoryorder": "total ascending"
        },
        "coloraxis": {
         "colorbar": {
          "title": {
           "text": "Avg. Stars"
          }
         },
         "colorscale": [
          [
           0.0,
           "#440154"
          ],
          [
           0.1111111111111111,
           "#482878"
          ],
          [
           0.2222222222222222,
           "#3e4989"
          ],
          [
           0.3333333333333333,
           "#31688e"
          ],
          [
           0.4444444444444444,
           "#26828e"
          ],
          [
           0.5555555555555556,
           "#1f9e89"
          ],
          [
           0.6666666666666666,
           "#35b779"
          ],
          [
           0.7777777777777778,
           "#6ece58"
          ],
          [
           0.8888888888888888,
           "#b5de2b"
          ],
          [
           1.0,
           "#fde725"
          ]
         ]
        },
        "legend": {
         "tracegroupgap": 0
        },
        "title": {
         "text": "Top 10 Programming Languages by Popularity"
        },
        "barmode": "relative",
        "plot_bgcolor": "white"
       },
       "config": {
        "plotlyServerURL": "https://plot.ly"
       }
      }
     },
     "metadata": {},
     "output_type": "display_data"
    }
   ],
   "execution_count": 13
  },
  {
   "cell_type": "markdown",
   "metadata": {},
   "source": [
    "## Example 3: Topic Analysis"
   ]
  },
  {
   "cell_type": "code",
   "metadata": {
    "ExecuteTime": {
     "end_time": "2025-06-04T10:48:55.103804Z",
     "start_time": "2025-06-04T10:48:55.042331Z"
    }
   },
   "source": [
    "# Analyze repository topics\n",
    "from github_repository_analyzer.visualizer import VisualizationEngine\n",
    "\n",
    "topics = analysis_results.get('topics', [])\n",
    "\n",
    "if topics:\n",
    "    df_topics = pd.DataFrame(topics)\n",
    "    print(\"Repository Topics Analysis:\")\n",
    "    display(df_topics.head(15))\n",
    "\n",
    "    visualizer = VisualizationEngine(repositories_data=analyzer.repositories_data)\n",
    "    fig = visualizer.create_topic_distribution_chart(df_topics, top_n=20)\n",
    "    fig.show()"
   ],
   "outputs": [
    {
     "name": "stdout",
     "output_type": "stream",
     "text": [
      "Repository Topics Analysis:\n"
     ]
    },
    {
     "data": {
      "text/plain": [
       "               topic  count  percentage\n",
       "0             python    128       42.67\n",
       "1      deep-learning     56       18.67\n",
       "2   machine-learning     46       15.33\n",
       "3                 ai     36       12.00\n",
       "4            pytorch     34       11.33\n",
       "5                llm     30       10.00\n",
       "6      hacktoberfest     26        8.67\n",
       "7            chatgpt     22        7.33\n",
       "8       data-science     20        6.67\n",
       "9          framework     18        6.00\n",
       "10            openai     16        5.33\n",
       "11               tts     16        5.33\n",
       "12               nlp     14        4.67\n",
       "13            agents     14        4.67\n",
       "14          deepseek     14        4.67"
      ],
      "text/html": [
       "<div>\n",
       "<style scoped>\n",
       "    .dataframe tbody tr th:only-of-type {\n",
       "        vertical-align: middle;\n",
       "    }\n",
       "\n",
       "    .dataframe tbody tr th {\n",
       "        vertical-align: top;\n",
       "    }\n",
       "\n",
       "    .dataframe thead th {\n",
       "        text-align: right;\n",
       "    }\n",
       "</style>\n",
       "<table border=\"1\" class=\"dataframe\">\n",
       "  <thead>\n",
       "    <tr style=\"text-align: right;\">\n",
       "      <th></th>\n",
       "      <th>topic</th>\n",
       "      <th>count</th>\n",
       "      <th>percentage</th>\n",
       "    </tr>\n",
       "  </thead>\n",
       "  <tbody>\n",
       "    <tr>\n",
       "      <th>0</th>\n",
       "      <td>python</td>\n",
       "      <td>128</td>\n",
       "      <td>42.67</td>\n",
       "    </tr>\n",
       "    <tr>\n",
       "      <th>1</th>\n",
       "      <td>deep-learning</td>\n",
       "      <td>56</td>\n",
       "      <td>18.67</td>\n",
       "    </tr>\n",
       "    <tr>\n",
       "      <th>2</th>\n",
       "      <td>machine-learning</td>\n",
       "      <td>46</td>\n",
       "      <td>15.33</td>\n",
       "    </tr>\n",
       "    <tr>\n",
       "      <th>3</th>\n",
       "      <td>ai</td>\n",
       "      <td>36</td>\n",
       "      <td>12.00</td>\n",
       "    </tr>\n",
       "    <tr>\n",
       "      <th>4</th>\n",
       "      <td>pytorch</td>\n",
       "      <td>34</td>\n",
       "      <td>11.33</td>\n",
       "    </tr>\n",
       "    <tr>\n",
       "      <th>5</th>\n",
       "      <td>llm</td>\n",
       "      <td>30</td>\n",
       "      <td>10.00</td>\n",
       "    </tr>\n",
       "    <tr>\n",
       "      <th>6</th>\n",
       "      <td>hacktoberfest</td>\n",
       "      <td>26</td>\n",
       "      <td>8.67</td>\n",
       "    </tr>\n",
       "    <tr>\n",
       "      <th>7</th>\n",
       "      <td>chatgpt</td>\n",
       "      <td>22</td>\n",
       "      <td>7.33</td>\n",
       "    </tr>\n",
       "    <tr>\n",
       "      <th>8</th>\n",
       "      <td>data-science</td>\n",
       "      <td>20</td>\n",
       "      <td>6.67</td>\n",
       "    </tr>\n",
       "    <tr>\n",
       "      <th>9</th>\n",
       "      <td>framework</td>\n",
       "      <td>18</td>\n",
       "      <td>6.00</td>\n",
       "    </tr>\n",
       "    <tr>\n",
       "      <th>10</th>\n",
       "      <td>openai</td>\n",
       "      <td>16</td>\n",
       "      <td>5.33</td>\n",
       "    </tr>\n",
       "    <tr>\n",
       "      <th>11</th>\n",
       "      <td>tts</td>\n",
       "      <td>16</td>\n",
       "      <td>5.33</td>\n",
       "    </tr>\n",
       "    <tr>\n",
       "      <th>12</th>\n",
       "      <td>nlp</td>\n",
       "      <td>14</td>\n",
       "      <td>4.67</td>\n",
       "    </tr>\n",
       "    <tr>\n",
       "      <th>13</th>\n",
       "      <td>agents</td>\n",
       "      <td>14</td>\n",
       "      <td>4.67</td>\n",
       "    </tr>\n",
       "    <tr>\n",
       "      <th>14</th>\n",
       "      <td>deepseek</td>\n",
       "      <td>14</td>\n",
       "      <td>4.67</td>\n",
       "    </tr>\n",
       "  </tbody>\n",
       "</table>\n",
       "</div>"
      ]
     },
     "metadata": {},
     "output_type": "display_data"
    },
    {
     "data": {
      "application/vnd.plotly.v1+json": {
       "data": [
        {
         "hovertemplate": "Number of Repositories=%{marker.color}<br>Topic=%{y}<br>Percentage (%)=%{text}<extra></extra>",
         "legendgroup": "",
         "marker": {
          "color": {
           "dtype": "i2",
           "bdata": "DAAMAAwADgAOAA4ADgAOABAAEAASABQAFgAaAB4AIgAkAC4AOACAAA=="
          },
          "coloraxis": "coloraxis",
          "pattern": {
           "shape": ""
          }
         },
         "name": "",
         "orientation": "h",
         "showlegend": false,
         "text": {
          "dtype": "f8",
          "bdata": "AAAAAAAAEEAAAAAAAAAQQAAAAAAAABBArkfhehSuEkCuR+F6FK4SQK5H4XoUrhJArkfhehSuEkCuR+F6FK4SQFK4HoXrURVAUrgehetRFUAAAAAAAAAYQK5H4XoUrhpAUrgehetRHUDXo3A9ClchQAAAAAAAACRAKVyPwvWoJkAAAAAAAAAoQClcj8L1qC5A7FG4HoWrMkD2KFyPwlVFQA=="
         },
         "textposition": "outside",
         "x": {
          "dtype": "i2",
          "bdata": "DAAMAAwADgAOAA4ADgAOABAAEAASABQAFgAaAB4AIgAkAC4AOACAAA=="
         },
         "xaxis": "x",
         "y": [
          "fine-tuning",
          "rag",
          "voice-cloning",
          "nlp",
          "deepseek",
          "gpt",
          "data-analysis",
          "agents",
          "openai",
          "tts",
          "framework",
          "data-science",
          "chatgpt",
          "hacktoberfest",
          "llm",
          "pytorch",
          "ai",
          "machine-learning",
          "deep-learning",
          "python"
         ],
         "yaxis": "y",
         "type": "bar",
         "texttemplate": "%{text:.1f}%"
        }
       ],
       "layout": {
        "template": {
         "data": {
          "histogram2dcontour": [
           {
            "type": "histogram2dcontour",
            "colorbar": {
             "outlinewidth": 0,
             "ticks": ""
            },
            "colorscale": [
             [
              0.0,
              "#0d0887"
             ],
             [
              0.1111111111111111,
              "#46039f"
             ],
             [
              0.2222222222222222,
              "#7201a8"
             ],
             [
              0.3333333333333333,
              "#9c179e"
             ],
             [
              0.4444444444444444,
              "#bd3786"
             ],
             [
              0.5555555555555556,
              "#d8576b"
             ],
             [
              0.6666666666666666,
              "#ed7953"
             ],
             [
              0.7777777777777778,
              "#fb9f3a"
             ],
             [
              0.8888888888888888,
              "#fdca26"
             ],
             [
              1.0,
              "#f0f921"
             ]
            ]
           }
          ],
          "choropleth": [
           {
            "type": "choropleth",
            "colorbar": {
             "outlinewidth": 0,
             "ticks": ""
            }
           }
          ],
          "histogram2d": [
           {
            "type": "histogram2d",
            "colorbar": {
             "outlinewidth": 0,
             "ticks": ""
            },
            "colorscale": [
             [
              0.0,
              "#0d0887"
             ],
             [
              0.1111111111111111,
              "#46039f"
             ],
             [
              0.2222222222222222,
              "#7201a8"
             ],
             [
              0.3333333333333333,
              "#9c179e"
             ],
             [
              0.4444444444444444,
              "#bd3786"
             ],
             [
              0.5555555555555556,
              "#d8576b"
             ],
             [
              0.6666666666666666,
              "#ed7953"
             ],
             [
              0.7777777777777778,
              "#fb9f3a"
             ],
             [
              0.8888888888888888,
              "#fdca26"
             ],
             [
              1.0,
              "#f0f921"
             ]
            ]
           }
          ],
          "heatmap": [
           {
            "type": "heatmap",
            "colorbar": {
             "outlinewidth": 0,
             "ticks": ""
            },
            "colorscale": [
             [
              0.0,
              "#0d0887"
             ],
             [
              0.1111111111111111,
              "#46039f"
             ],
             [
              0.2222222222222222,
              "#7201a8"
             ],
             [
              0.3333333333333333,
              "#9c179e"
             ],
             [
              0.4444444444444444,
              "#bd3786"
             ],
             [
              0.5555555555555556,
              "#d8576b"
             ],
             [
              0.6666666666666666,
              "#ed7953"
             ],
             [
              0.7777777777777778,
              "#fb9f3a"
             ],
             [
              0.8888888888888888,
              "#fdca26"
             ],
             [
              1.0,
              "#f0f921"
             ]
            ]
           }
          ],
          "contourcarpet": [
           {
            "type": "contourcarpet",
            "colorbar": {
             "outlinewidth": 0,
             "ticks": ""
            }
           }
          ],
          "contour": [
           {
            "type": "contour",
            "colorbar": {
             "outlinewidth": 0,
             "ticks": ""
            },
            "colorscale": [
             [
              0.0,
              "#0d0887"
             ],
             [
              0.1111111111111111,
              "#46039f"
             ],
             [
              0.2222222222222222,
              "#7201a8"
             ],
             [
              0.3333333333333333,
              "#9c179e"
             ],
             [
              0.4444444444444444,
              "#bd3786"
             ],
             [
              0.5555555555555556,
              "#d8576b"
             ],
             [
              0.6666666666666666,
              "#ed7953"
             ],
             [
              0.7777777777777778,
              "#fb9f3a"
             ],
             [
              0.8888888888888888,
              "#fdca26"
             ],
             [
              1.0,
              "#f0f921"
             ]
            ]
           }
          ],
          "surface": [
           {
            "type": "surface",
            "colorbar": {
             "outlinewidth": 0,
             "ticks": ""
            },
            "colorscale": [
             [
              0.0,
              "#0d0887"
             ],
             [
              0.1111111111111111,
              "#46039f"
             ],
             [
              0.2222222222222222,
              "#7201a8"
             ],
             [
              0.3333333333333333,
              "#9c179e"
             ],
             [
              0.4444444444444444,
              "#bd3786"
             ],
             [
              0.5555555555555556,
              "#d8576b"
             ],
             [
              0.6666666666666666,
              "#ed7953"
             ],
             [
              0.7777777777777778,
              "#fb9f3a"
             ],
             [
              0.8888888888888888,
              "#fdca26"
             ],
             [
              1.0,
              "#f0f921"
             ]
            ]
           }
          ],
          "mesh3d": [
           {
            "type": "mesh3d",
            "colorbar": {
             "outlinewidth": 0,
             "ticks": ""
            }
           }
          ],
          "scatter": [
           {
            "fillpattern": {
             "fillmode": "overlay",
             "size": 10,
             "solidity": 0.2
            },
            "type": "scatter"
           }
          ],
          "parcoords": [
           {
            "type": "parcoords",
            "line": {
             "colorbar": {
              "outlinewidth": 0,
              "ticks": ""
             }
            }
           }
          ],
          "scatterpolargl": [
           {
            "type": "scatterpolargl",
            "marker": {
             "colorbar": {
              "outlinewidth": 0,
              "ticks": ""
             }
            }
           }
          ],
          "bar": [
           {
            "error_x": {
             "color": "#2a3f5f"
            },
            "error_y": {
             "color": "#2a3f5f"
            },
            "marker": {
             "line": {
              "color": "#E5ECF6",
              "width": 0.5
             },
             "pattern": {
              "fillmode": "overlay",
              "size": 10,
              "solidity": 0.2
             }
            },
            "type": "bar"
           }
          ],
          "scattergeo": [
           {
            "type": "scattergeo",
            "marker": {
             "colorbar": {
              "outlinewidth": 0,
              "ticks": ""
             }
            }
           }
          ],
          "scatterpolar": [
           {
            "type": "scatterpolar",
            "marker": {
             "colorbar": {
              "outlinewidth": 0,
              "ticks": ""
             }
            }
           }
          ],
          "histogram": [
           {
            "marker": {
             "pattern": {
              "fillmode": "overlay",
              "size": 10,
              "solidity": 0.2
             }
            },
            "type": "histogram"
           }
          ],
          "scattergl": [
           {
            "type": "scattergl",
            "marker": {
             "colorbar": {
              "outlinewidth": 0,
              "ticks": ""
             }
            }
           }
          ],
          "scatter3d": [
           {
            "type": "scatter3d",
            "line": {
             "colorbar": {
              "outlinewidth": 0,
              "ticks": ""
             }
            },
            "marker": {
             "colorbar": {
              "outlinewidth": 0,
              "ticks": ""
             }
            }
           }
          ],
          "scattermap": [
           {
            "type": "scattermap",
            "marker": {
             "colorbar": {
              "outlinewidth": 0,
              "ticks": ""
             }
            }
           }
          ],
          "scattermapbox": [
           {
            "type": "scattermapbox",
            "marker": {
             "colorbar": {
              "outlinewidth": 0,
              "ticks": ""
             }
            }
           }
          ],
          "scatterternary": [
           {
            "type": "scatterternary",
            "marker": {
             "colorbar": {
              "outlinewidth": 0,
              "ticks": ""
             }
            }
           }
          ],
          "scattercarpet": [
           {
            "type": "scattercarpet",
            "marker": {
             "colorbar": {
              "outlinewidth": 0,
              "ticks": ""
             }
            }
           }
          ],
          "carpet": [
           {
            "aaxis": {
             "endlinecolor": "#2a3f5f",
             "gridcolor": "white",
             "linecolor": "white",
             "minorgridcolor": "white",
             "startlinecolor": "#2a3f5f"
            },
            "baxis": {
             "endlinecolor": "#2a3f5f",
             "gridcolor": "white",
             "linecolor": "white",
             "minorgridcolor": "white",
             "startlinecolor": "#2a3f5f"
            },
            "type": "carpet"
           }
          ],
          "table": [
           {
            "cells": {
             "fill": {
              "color": "#EBF0F8"
             },
             "line": {
              "color": "white"
             }
            },
            "header": {
             "fill": {
              "color": "#C8D4E3"
             },
             "line": {
              "color": "white"
             }
            },
            "type": "table"
           }
          ],
          "barpolar": [
           {
            "marker": {
             "line": {
              "color": "#E5ECF6",
              "width": 0.5
             },
             "pattern": {
              "fillmode": "overlay",
              "size": 10,
              "solidity": 0.2
             }
            },
            "type": "barpolar"
           }
          ],
          "pie": [
           {
            "automargin": true,
            "type": "pie"
           }
          ]
         },
         "layout": {
          "autotypenumbers": "strict",
          "colorway": [
           "#636efa",
           "#EF553B",
           "#00cc96",
           "#ab63fa",
           "#FFA15A",
           "#19d3f3",
           "#FF6692",
           "#B6E880",
           "#FF97FF",
           "#FECB52"
          ],
          "font": {
           "color": "#2a3f5f"
          },
          "hovermode": "closest",
          "hoverlabel": {
           "align": "left"
          },
          "paper_bgcolor": "white",
          "plot_bgcolor": "#E5ECF6",
          "polar": {
           "bgcolor": "#E5ECF6",
           "angularaxis": {
            "gridcolor": "white",
            "linecolor": "white",
            "ticks": ""
           },
           "radialaxis": {
            "gridcolor": "white",
            "linecolor": "white",
            "ticks": ""
           }
          },
          "ternary": {
           "bgcolor": "#E5ECF6",
           "aaxis": {
            "gridcolor": "white",
            "linecolor": "white",
            "ticks": ""
           },
           "baxis": {
            "gridcolor": "white",
            "linecolor": "white",
            "ticks": ""
           },
           "caxis": {
            "gridcolor": "white",
            "linecolor": "white",
            "ticks": ""
           }
          },
          "coloraxis": {
           "colorbar": {
            "outlinewidth": 0,
            "ticks": ""
           }
          },
          "colorscale": {
           "sequential": [
            [
             0.0,
             "#0d0887"
            ],
            [
             0.1111111111111111,
             "#46039f"
            ],
            [
             0.2222222222222222,
             "#7201a8"
            ],
            [
             0.3333333333333333,
             "#9c179e"
            ],
            [
             0.4444444444444444,
             "#bd3786"
            ],
            [
             0.5555555555555556,
             "#d8576b"
            ],
            [
             0.6666666666666666,
             "#ed7953"
            ],
            [
             0.7777777777777778,
             "#fb9f3a"
            ],
            [
             0.8888888888888888,
             "#fdca26"
            ],
            [
             1.0,
             "#f0f921"
            ]
           ],
           "sequentialminus": [
            [
             0.0,
             "#0d0887"
            ],
            [
             0.1111111111111111,
             "#46039f"
            ],
            [
             0.2222222222222222,
             "#7201a8"
            ],
            [
             0.3333333333333333,
             "#9c179e"
            ],
            [
             0.4444444444444444,
             "#bd3786"
            ],
            [
             0.5555555555555556,
             "#d8576b"
            ],
            [
             0.6666666666666666,
             "#ed7953"
            ],
            [
             0.7777777777777778,
             "#fb9f3a"
            ],
            [
             0.8888888888888888,
             "#fdca26"
            ],
            [
             1.0,
             "#f0f921"
            ]
           ],
           "diverging": [
            [
             0,
             "#8e0152"
            ],
            [
             0.1,
             "#c51b7d"
            ],
            [
             0.2,
             "#de77ae"
            ],
            [
             0.3,
             "#f1b6da"
            ],
            [
             0.4,
             "#fde0ef"
            ],
            [
             0.5,
             "#f7f7f7"
            ],
            [
             0.6,
             "#e6f5d0"
            ],
            [
             0.7,
             "#b8e186"
            ],
            [
             0.8,
             "#7fbc41"
            ],
            [
             0.9,
             "#4d9221"
            ],
            [
             1,
             "#276419"
            ]
           ]
          },
          "xaxis": {
           "gridcolor": "white",
           "linecolor": "white",
           "ticks": "",
           "title": {
            "standoff": 15
           },
           "zerolinecolor": "white",
           "automargin": true,
           "zerolinewidth": 2
          },
          "yaxis": {
           "gridcolor": "white",
           "linecolor": "white",
           "ticks": "",
           "title": {
            "standoff": 15
           },
           "zerolinecolor": "white",
           "automargin": true,
           "zerolinewidth": 2
          },
          "scene": {
           "xaxis": {
            "backgroundcolor": "#E5ECF6",
            "gridcolor": "white",
            "linecolor": "white",
            "showbackground": true,
            "ticks": "",
            "zerolinecolor": "white",
            "gridwidth": 2
           },
           "yaxis": {
            "backgroundcolor": "#E5ECF6",
            "gridcolor": "white",
            "linecolor": "white",
            "showbackground": true,
            "ticks": "",
            "zerolinecolor": "white",
            "gridwidth": 2
           },
           "zaxis": {
            "backgroundcolor": "#E5ECF6",
            "gridcolor": "white",
            "linecolor": "white",
            "showbackground": true,
            "ticks": "",
            "zerolinecolor": "white",
            "gridwidth": 2
           }
          },
          "shapedefaults": {
           "line": {
            "color": "#2a3f5f"
           }
          },
          "annotationdefaults": {
           "arrowcolor": "#2a3f5f",
           "arrowhead": 0,
           "arrowwidth": 1
          },
          "geo": {
           "bgcolor": "white",
           "landcolor": "#E5ECF6",
           "subunitcolor": "white",
           "showland": true,
           "showlakes": true,
           "lakecolor": "white"
          },
          "title": {
           "x": 0.05
          },
          "mapbox": {
           "style": "light"
          }
         }
        },
        "xaxis": {
         "anchor": "y",
         "domain": [
          0.0,
          1.0
         ],
         "title": {
          "text": "Number of Repositories"
         },
         "showgrid": true,
         "gridcolor": "lightgrey"
        },
        "yaxis": {
         "anchor": "x",
         "domain": [
          0.0,
          1.0
         ],
         "title": {
          "text": "Topic"
         },
         "showgrid": false
        },
        "coloraxis": {
         "colorbar": {
          "title": {
           "text": "Number of Repositories"
          }
         },
         "colorscale": [
          [
           0.0,
           "#0d0887"
          ],
          [
           0.1111111111111111,
           "#46039f"
          ],
          [
           0.2222222222222222,
           "#7201a8"
          ],
          [
           0.3333333333333333,
           "#9c179e"
          ],
          [
           0.4444444444444444,
           "#bd3786"
          ],
          [
           0.5555555555555556,
           "#d8576b"
          ],
          [
           0.6666666666666666,
           "#ed7953"
          ],
          [
           0.7777777777777778,
           "#fb9f3a"
          ],
          [
           0.8888888888888888,
           "#fdca26"
          ],
          [
           1.0,
           "#f0f921"
          ]
         ]
        },
        "legend": {
         "tracegroupgap": 0
        },
        "title": {
         "text": "Top 20 Repository Topics"
        },
        "barmode": "relative",
        "plot_bgcolor": "white"
       },
       "config": {
        "plotlyServerURL": "https://plot.ly"
       }
      }
     },
     "metadata": {},
     "output_type": "display_data"
    }
   ],
   "execution_count": 14
  },
  {
   "cell_type": "markdown",
   "metadata": {},
   "source": [
    "## Example 4: Trend Predictions"
   ]
  },
  {
   "cell_type": "code",
   "metadata": {},
   "source": [
    "# Analyze trend predictions\n",
    "predictions = analysis_results.get('predictions', {})\n",
    "\n",
    "if predictions:\n",
    "    print(\"Trend Predictions:\")\n",
    "\n",
    "    # Create DataFrame for predictions (optional, for tabular display)\n",
    "    pred_data = []\n",
    "    for language, pred in predictions.items():\n",
    "        pred_data.append({\n",
    "            'Language': language,\n",
    "            'Current Score': pred['current_score'],\n",
    "            'Growth Rate (%)': pred['growth_rate'],\n",
    "            'Trend Direction': pred['trend_direction'],\n",
    "            'Confidence (%)': pred['confidence']\n",
    "        })\n",
    "\n",
    "    df_predictions = pd.DataFrame(pred_data)\n",
    "    df_predictions = df_predictions.sort_values('Growth Rate (%)', ascending=False)\n",
    "    display(df_predictions)\n",
    "\n",
    "    # Use the inbuilt visualization function\n",
    "    from github_repository_analyzer.visualizer import VisualizationEngine\n",
    "    visualizer = VisualizationEngine(repositories_data=analyzer.repositories_data)\n",
    "    fig = visualizer.create_trend_prediction_chart(predictions)\n",
    "    fig.show()"
   ],
   "outputs": [],
   "execution_count": null
  },
  {
   "cell_type": "markdown",
   "metadata": {},
   "source": [
    "## Example 5: Interactive Time Window Analysis"
   ]
  },
  {
   "cell_type": "code",
   "metadata": {},
   "source": [
    "# Create an interactive widget for time window selection\n",
    "import ipywidgets as widgets\n",
    "from IPython.display import display, clear_output\n",
    "\n",
    "# Time window options\n",
    "time_windows = [\n",
    "    \"last 12 months\",\n",
    "    \"last 6 months\", \n",
    "    \"last month\",\n",
    "    \"this month\",\n",
    "    \"last two weeks\",\n",
    "    \"last week\",\n",
    "    \"today\"\n",
    "]\n",
    "\n",
    "# Create widgets\n",
    "query_widget = widgets.Text(\n",
    "    value=\"language:javascript topic:react\",\n",
    "    description=\"Query:\",\n",
    "    style={'description_width': 'initial'}\n",
    ")\n",
    "\n",
    "time_widget = widgets.Dropdown(\n",
    "    options=time_windows,\n",
    "    value=\"last 6 months\",\n",
    "    description=\"Time Window:\",\n",
    "    style={'description_width': 'initial'}\n",
    ")\n",
    "\n",
    "max_repos_widget = widgets.IntSlider(\n",
    "    value=100,\n",
    "    min=50,\n",
    "    max=500,\n",
    "    step=50,\n",
    "    description=\"Max Repos:\",\n",
    "    style={'description_width': 'initial'}\n",
    ")\n",
    "\n",
    "button = widgets.Button(\n",
    "    description=\"Analyze\",\n",
    "    button_style='primary'\n",
    ")\n",
    "\n",
    "output = widgets.Output()\n",
    "\n",
    "def analyze_button_click(b):\n",
    "    with output:\n",
    "        clear_output(wait=True)\n",
    "        print(f\"Analyzing: {query_widget.value}\")\n",
    "        print(f\"Time window: {time_widget.value}\")\n",
    "        print(f\"Max repositories: {max_repos_widget.value}\")\n",
    "        \n",
    "        try:\n",
    "            # Clear previous data\n",
    "            analyzer.repositories_data = []\n",
    "            \n",
    "            # Search repositories\n",
    "            repos = analyzer.search_repositories(\n",
    "                query=query_widget.value,\n",
    "                max_repos=max_repos_widget.value,\n",
    "                time_window=time_widget.value\n",
    "            )\n",
    "            \n",
    "            if repos:\n",
    "                print(f\"Found {len(repos)} repositories\")\n",
    "                \n",
    "                # Quick analysis\n",
    "                analysis = analyzer.analyze_all(\n",
    "                    perform_clustering=False,\n",
    "                    predict_trends=False\n",
    "                )\n",
    "                \n",
    "                summary = analysis.get('summary', {})\n",
    "                print(f\"\\nQuick Stats:\")\n",
    "                print(f\"  • Total Stars: {summary.get('total_stars', 0):,}\")\n",
    "                print(f\"  • Average Stars: {summary.get('total_stars', 0) / len(repos):.1f}\")\n",
    "                print(f\"  • Unique Languages: {summary.get('unique_languages', 0)}\")\n",
    "                \n",
    "                # Show top repositories\n",
    "                top_5 = sorted(repos, key=lambda x: x['stars'], reverse=True)[:5]\n",
    "                print(f\"\\nTop 5 Repositories:\")\n",
    "                for i, repo in enumerate(top_5, 1):\n",
    "                    print(f\"  {i}. {repo['full_name']} -  {repo['stars']:,}\")\n",
    "            else:\n",
    "                print(\"No repositories found\")\n",
    "                \n",
    "        except Exception as e:\n",
    "            print(f\"Error: {e}\")\n",
    "\n",
    "button.on_click(analyze_button_click)\n",
    "\n",
    "# Display widgets\n",
    "print(\"🎛Interactive Repository Analysis\")\n",
    "display(query_widget, time_widget, max_repos_widget, button, output)"
   ],
   "outputs": [],
   "execution_count": null
  },
  {
   "cell_type": "markdown",
   "metadata": {},
   "source": [
    "## Example 6: Export Results"
   ]
  },
  {
   "cell_type": "code",
   "metadata": {},
   "source": [
    "# Generate comprehensive insights report\n",
    "insights = analyzer.generate_insights_report()\n",
    "\n",
    "print(\"Insights Report Generated:\")\n",
    "print(\"\\nTop Findings:\")\n",
    "for i, finding in enumerate(insights.get('top_findings', []), 1):\n",
    "    print(f\"  {i}. {finding}\")\n",
    "\n",
    "print(\"\\nRecommendations:\")\n",
    "for i, rec in enumerate(insights.get('recommendations', []), 1):\n",
    "    print(f\"  {i}. {rec}\")\n",
    "\n",
    "# Save all data\n",
    "print(\"\\nSaving analysis data...\")\n",
    "saved_files = analyzer.save_all_data(filename_prefix=\"notebook_analysis\")\n",
    "\n",
    "print(\"Files saved:\")\n",
    "for file_type, filename in saved_files.items():\n",
    "    print(f\"  • {file_type}: {filename}\")"
   ],
   "outputs": [],
   "execution_count": null
  },
  {
   "cell_type": "markdown",
   "metadata": {},
   "source": [
    "## Next Steps\n",
    "\n",
    "- Try different search queries and time windows\n",
    "- Explore the saved CSV and JSON files\n",
    "- Modify the analysis parameters for your specific research needs\n",
    "\n",
    "Happy analyzing!"
   ]
  }
 ],
 "metadata": {
  "kernelspec": {
   "display_name": "Python 3",
   "language": "python",
   "name": "python3"
  },
  "language_info": {
   "codemirror_mode": {
    "name": "ipython",
    "version": 3
   },
   "file_extension": ".py",
   "mimetype": "text/x-python",
   "name": "python",
   "nbconvert_exporter": "python",
   "pygments_lexer": "ipython3",
   "version": "3.8.0"
  }
 },
 "nbformat": 4,
 "nbformat_minor": 4
}
